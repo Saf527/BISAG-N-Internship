{
 "cells": [
  {
   "cell_type": "markdown",
   "id": "f8187238",
   "metadata": {},
   "source": [
    "# Extracting Text From Image"
   ]
  },
  {
   "cell_type": "code",
   "execution_count": 1,
   "id": "a33cb8e9",
   "metadata": {},
   "outputs": [],
   "source": [
    "import pytesseract"
   ]
  },
  {
   "cell_type": "code",
   "execution_count": 2,
   "id": "3045c110",
   "metadata": {},
   "outputs": [],
   "source": [
    "pytesseract.pytesseract.tesseract_cmd=\"C:\\\\Program Files\\\\Tesseract-OCR\\\\tesseract.exe\""
   ]
  },
  {
   "cell_type": "code",
   "execution_count": 3,
   "id": "d2eae9bd",
   "metadata": {},
   "outputs": [],
   "source": [
    "import cv2"
   ]
  },
  {
   "cell_type": "code",
   "execution_count": 4,
   "id": "6da42874",
   "metadata": {},
   "outputs": [],
   "source": [
    "img=cv2.imread(\"p.png\")"
   ]
  },
  {
   "cell_type": "code",
   "execution_count": 5,
   "id": "c48e3e75",
   "metadata": {},
   "outputs": [],
   "source": [
    "cv2.imshow(\"window\",img)\n",
    "cv2.waitKey(0)\n",
    "cv2.destroyAllWindows()"
   ]
  },
  {
   "cell_type": "code",
   "execution_count": 6,
   "id": "58d2262f",
   "metadata": {},
   "outputs": [],
   "source": [
    "text=pytesseract.image_to_string(img)"
   ]
  },
  {
   "cell_type": "code",
   "execution_count": 7,
   "id": "e650f7f3",
   "metadata": {},
   "outputs": [
    {
     "name": "stdout",
     "output_type": "stream",
     "text": [
      "Tesseract at UB Mannheim\n",
      "\n",
      "The Mannheim University Library (UB Mannheim) uses Tesseract to perform text recognition (OCR = optical character\n",
      "recognition) for historical German newspapers (Allgemeine PreuBische Staatszeitung, Deutscher Reichsanzeiger). The latest\n",
      "results with text from more than 700000 pages are available online.\n",
      "\n",
      "Tesseract installer for Windows\n",
      "\n",
      "Normally we run Tesseract on Debian GNU Linux, but there was also the need for a Windows version. That's why we have built\n",
      "a Tesseract installer for Windows.\n",
      "\n",
      "WARNING: Tesseract should be either installed in the directory which is suggested during the installation or in a new\n",
      "directory. The uninstaller removes the whole installation directory. If you installed Tesseract in an existing directory, that\n",
      "directory will be removed with all its subdirectories and files.\n",
      "\n"
     ]
    }
   ],
   "source": [
    "print(text)"
   ]
  },
  {
   "cell_type": "code",
   "execution_count": 8,
   "id": "6fe5691c",
   "metadata": {},
   "outputs": [
    {
     "name": "stdout",
     "output_type": "stream",
     "text": [
      "Requirement already satisfied: PyPDF2 in c:\\users\\shaik\\anaconda3\\lib\\site-packages (3.0.1)\n"
     ]
    }
   ],
   "source": [
    "!pip install PyPDF2"
   ]
  },
  {
   "cell_type": "markdown",
   "id": "66eb6e5a",
   "metadata": {},
   "source": [
    "# Extracting Text From PDFs"
   ]
  },
  {
   "cell_type": "code",
   "execution_count": 10,
   "id": "7a96509f",
   "metadata": {},
   "outputs": [
    {
     "name": "stdout",
     "output_type": "stream",
     "text": [
      "EXPERIENCE                                               PATHAN IQBAL KHAN                        \n",
      "       rkhan63811@gmail.com   \n",
      " 9998896742                                                  \n",
      " \n",
      "SUMMARY \n",
      "To Obtain challenging posi Ɵon in a quality engineering environment where my resourceful experience and \n",
      "academic skills will add value to organiza Ɵon operaƟon. \n",
      " \n",
      "EXPERIENCE \n",
      "I have 10 years of experience in Heavy Motors Foreman(6 wheelers,4 wheelers,etc.) \n",
      " \n",
      "EDUCATION \n",
      "8th Passed. \n",
      " \n",
      "PERSONAL DETAILS \n",
      "Address: 16,Ghanchi Ni Chali, Nurmahel Hotel Pase, Bapunagar, Ahmedabad, Gujarat -380024 \n",
      "Date Of Birth: 31/01/1985 \n",
      "Gender: Male \n",
      "NaƟonality: Indian  \n",
      "Marital Status: Married \n",
      "Languages Known: Hindi, English, Gujara Ɵ \n",
      " \n",
      "DECLARATION \n",
      "I hereby declare that the informa Ɵon furnished above is true to the best of my knowledge.  \n",
      " \n",
      " \n",
      "Place: Ahmedabad         PATHAN IQBAL KHAN \n",
      "DATE: 18/12/2023 \n",
      "\n"
     ]
    }
   ],
   "source": [
    "import PyPDF2\n",
    "\n",
    "def extract_text_from_pdf(pdf_path):\n",
    "    with open(pdf_path, 'rb') as file:\n",
    "        pdf_reader = PyPDF2.PdfReader(file)\n",
    "        num_pages = len(pdf_reader.pages)\n",
    "        text = \"\"\n",
    "        for page_num in range(num_pages):\n",
    "            page = pdf_reader.pages[page_num]\n",
    "            text += page.extract_text()\n",
    "    return text\n",
    "\n",
    "# Call the function with the path to your PDF\n",
    "text = extract_text_from_pdf('r1.pdf')\n",
    "\n",
    "# Print the extracted text\n",
    "print(text)\n"
   ]
  },
  {
   "cell_type": "markdown",
   "id": "5c90814f",
   "metadata": {},
   "source": [
    "# Extracting Text From Docx"
   ]
  },
  {
   "cell_type": "code",
   "execution_count": 11,
   "id": "6c4a6815",
   "metadata": {},
   "outputs": [
    {
     "name": "stdout",
     "output_type": "stream",
     "text": [
      "EXPERIENCE                                               PATHAN IQBAL KHAN                       \n",
      "\t\t\t\t\t\t rkhan63811@gmail.com \n",
      " 9998896742                                                 \n",
      "\n",
      "SUMMARY\n",
      "To Obtain challenging position in a quality engineering environment where my resourceful experience and academic skills will add value to organization operation.\n",
      "\n",
      "EXPERIENCE\n",
      "I have 10 years of experience in Heavy Motors Foreman(6 wheelers,4 wheelers,etc.)\n",
      "\n",
      "EDUCATION\n",
      "8th Passed.\n",
      "\n",
      "PERSONAL DETAILS\n",
      "Address: 16,Ghanchi Ni Chali, Nurmahel Hotel Pase, Bapunagar, Ahmedabad, Gujarat -380024\n",
      "Date Of Birth: 31/01/1985\n",
      "Gender: Male\n",
      "Nationality: Indian\n",
      "Marital Status: Married\n",
      "Languages Known: Hindi, English, Gujarati\n",
      "\n",
      "DECLARATION\n",
      "I hereby declare that the information furnished above is true to the best of my knowledge.\n",
      "\n",
      "\n",
      "Place: Ahmedabad\t\t\t\t\t\t\t\t\tPATHAN IQBAL KHAN\n",
      "DATE: 18/12/2023\n"
     ]
    }
   ],
   "source": [
    "from docx import Document\n",
    "\n",
    "def extract_text_from_docx(docx_path):\n",
    "    doc = Document(docx_path)\n",
    "    full_text = []\n",
    "    for para in doc.paragraphs:\n",
    "        full_text.append(para.text)\n",
    "    return '\\n'.join(full_text)\n",
    "\n",
    "# Call the function with the path to your DOCX\n",
    "text = extract_text_from_docx('R.docx')\n",
    "\n",
    "# Print the extracted text\n",
    "print(text)\n"
   ]
  },
  {
   "cell_type": "code",
   "execution_count": null,
   "id": "5e1cf4e9",
   "metadata": {},
   "outputs": [],
   "source": []
  },
  {
   "cell_type": "code",
   "execution_count": null,
   "id": "e03eb0fd",
   "metadata": {},
   "outputs": [],
   "source": []
  },
  {
   "cell_type": "code",
   "execution_count": null,
   "id": "2c2702b0",
   "metadata": {},
   "outputs": [],
   "source": []
  }
 ],
 "metadata": {
  "kernelspec": {
   "display_name": "Python 3 (ipykernel)",
   "language": "python",
   "name": "python3"
  },
  "language_info": {
   "codemirror_mode": {
    "name": "ipython",
    "version": 3
   },
   "file_extension": ".py",
   "mimetype": "text/x-python",
   "name": "python",
   "nbconvert_exporter": "python",
   "pygments_lexer": "ipython3",
   "version": "3.11.5"
  }
 },
 "nbformat": 4,
 "nbformat_minor": 5
}
